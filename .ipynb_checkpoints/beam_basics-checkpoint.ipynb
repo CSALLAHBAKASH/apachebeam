{
 "cells": [
  {
   "cell_type": "code",
   "execution_count": 108,
   "id": "0a3fefb1-cd8d-4fdb-a186-81dd28f3db17",
   "metadata": {},
   "outputs": [],
   "source": [
    "import apache_beam as beam"
   ]
  },
  {
   "cell_type": "code",
   "execution_count": 109,
   "id": "54966ebf-c19a-4225-8018-94e6a0d53104",
   "metadata": {},
   "outputs": [],
   "source": [
    "import numpy as np\n",
    "import json\n",
    "from collections import Counter"
   ]
  },
  {
   "cell_type": "code",
   "execution_count": 110,
   "id": "1007acf5-f7b5-4276-a16a-5ca66c140423",
   "metadata": {},
   "outputs": [],
   "source": [
    "import logging\n",
    "logger = logging.getLogger()\n",
    "logger.setLevel(logging.INFO)\n",
    "logging.debug(\"test\")"
   ]
  },
  {
   "cell_type": "code",
   "execution_count": 111,
   "id": "2ddfdf55-2f3c-454d-8a94-edf263da348f",
   "metadata": {},
   "outputs": [],
   "source": [
    "logging.getLogger('apache_beam.runners.worker.statecache').setLevel(logging.WARNING)"
   ]
  },
  {
   "cell_type": "code",
   "execution_count": 112,
   "id": "edf5e86a-d0e5-4307-9162-d26781400b85",
   "metadata": {},
   "outputs": [],
   "source": [
    "# Custom filter to exclude specific INFO messages\n",
    "class InfoFilter(logging.Filter):\n",
    "    def filter(self, record):\n",
    "        if record.levelno == logging.INFO and 'Missing pipeline option (runner)' in record.getMessage():\n",
    "            return False\n",
    "        return True\n",
    "\n",
    "# Configure the root logger\n",
    "logging.basicConfig(\n",
    "    level=logging.INFO,  # Set the default logging level to INFO\n",
    "    format='%(asctime)s - %(levelname)s - %(message)s',  # Define the format for log messages\n",
    "    datefmt='%Y-%m-%d %H:%M:%S'  # Define the format for timestamps\n",
    ")\n",
    "\n",
    "# Add filter to the root logger\n",
    "logging.getLogger().addFilter(InfoFilter())"
   ]
  },
  {
   "cell_type": "code",
   "execution_count": 113,
   "id": "3f21293d-19ad-4dab-828a-7237eab78d6b",
   "metadata": {},
   "outputs": [],
   "source": [
    "import logging\n",
    "\n",
    "# Configure logging\n",
    "logging.basicConfig(\n",
    "    level=logging.INFO,  # Set logging level to INFO\n",
    "    format='%(asctime)s - %(levelname)s - %(message)s',  # Include timestamp, log level, and message\n",
    "    datefmt='%Y-%m-%d %H:%M:%S'  # Define the format for timestamps\n",
    ")\n",
    "\n"
   ]
  },
  {
   "cell_type": "raw",
   "id": "ae3a300a-8f60-462a-812d-b019dd7d3bb6",
   "metadata": {},
   "source": [
    "logging.getLogger(__name__)\n",
    "logging.getLogger(__name__).setLevel(logging.DEBUG)"
   ]
  },
  {
   "cell_type": "code",
   "execution_count": 114,
   "id": "c5828aab-029d-40be-a954-39a6f735e788",
   "metadata": {},
   "outputs": [],
   "source": [
    " #debug() , info() , warning() , error() and critical() "
   ]
  },
  {
   "cell_type": "code",
   "execution_count": 115,
   "id": "cf4f2f16-f955-446e-8078-ee93c14f91e1",
   "metadata": {},
   "outputs": [
    {
     "name": "stderr",
     "output_type": "stream",
     "text": [
      "INFO:root:This is an info message\n",
      "WARNING:root:This is a warning message\n",
      "ERROR:root:This is an error message\n",
      "CRITICAL:root:This is a critical message\n"
     ]
    }
   ],
   "source": [
    "import logging\n",
    "logging.debug(\"This is a debug message\")\n",
    "logging.info(\"This is an info message\")\n",
    "logging.warning(\"This is a warning message\")\n",
    "logging.error(\"This is an error message\")\n",
    "logging.critical(\"This is a critical message\")"
   ]
  },
  {
   "cell_type": "code",
   "execution_count": 116,
   "id": "9332a581-2da6-484f-a7e0-59699396282b",
   "metadata": {},
   "outputs": [],
   "source": [
    "np.random.seed(0)\n",
    "data=np.random.randint(1,10,10).tolist()"
   ]
  },
  {
   "cell_type": "code",
   "execution_count": 117,
   "id": "4b3105c0-aed5-4655-83a6-ba37a864a000",
   "metadata": {},
   "outputs": [
    {
     "name": "stdout",
     "output_type": "stream",
     "text": [
      "None\n"
     ]
    }
   ],
   "source": [
    "with beam.Pipeline() as p:\n",
    "    (\n",
    "        p \n",
    "        | beam.Create([None])\n",
    "        | beam.LogElements()\n",
    "    )"
   ]
  },
  {
   "cell_type": "code",
   "execution_count": 118,
   "id": "1f4d4e34-8d75-4908-972e-d7c850d5cc6f",
   "metadata": {},
   "outputs": [],
   "source": [
    "from datetime import datetime"
   ]
  },
  {
   "cell_type": "code",
   "execution_count": 119,
   "id": "a7e6d14f-9910-4146-9495-c4a1ffb9566b",
   "metadata": {},
   "outputs": [
    {
     "name": "stdout",
     "output_type": "stream",
     "text": [
      "2024-07-23 12:38:20.172508\n"
     ]
    }
   ],
   "source": [
    "with beam.Pipeline() as p:\n",
    "    (\n",
    "        p \n",
    "        | beam.Create([datetime.now()])\n",
    "        | beam.LogElements()\n",
    "    )"
   ]
  },
  {
   "cell_type": "code",
   "execution_count": 120,
   "id": "15657801-9bdb-40d9-867e-462a341178e4",
   "metadata": {},
   "outputs": [
    {
     "name": "stdout",
     "output_type": "stream",
     "text": [
      "[1, 2, 3]\n"
     ]
    }
   ],
   "source": [
    "with beam.Pipeline() as p:\n",
    "    # p | beam.Create([None]) | beam.LogElements()\n",
    "    \n",
    "    # p | beam.Create([datetime.now()]) | beam.LogElements()\n",
    "    \n",
    "    # p | beam.Create([\"Hello Beam\"]) | beam.LogElements()\n",
    "    # p | beam.Create([[\"Hello Beam\"]]) | beam.LogElements()\n",
    "    \n",
    "    # p | beam.Create([1,2,3]) | beam.LogElements()\n",
    "    p | beam.Create([[1,2,3]]) | beam.LogElements()\n",
    "    "
   ]
  },
  {
   "cell_type": "code",
   "execution_count": 121,
   "id": "b399a1bb-4558-47d2-a5a3-fd5159528f12",
   "metadata": {},
   "outputs": [],
   "source": [
    "data = [7,8,9,2,3,2,3,1]"
   ]
  },
  {
   "cell_type": "code",
   "execution_count": 122,
   "id": "0e3ad11e-4903-42de-8683-7ba6461d8431",
   "metadata": {},
   "outputs": [
    {
     "name": "stdout",
     "output_type": "stream",
     "text": [
      "7\n",
      "8\n",
      "9\n",
      "2\n",
      "3\n",
      "2\n",
      "3\n",
      "1\n"
     ]
    }
   ],
   "source": [
    "with beam.Pipeline() as p:\n",
    "    p | beam.Create(data) | beam.LogElements()\n",
    "    # p | beam.Create(data) | beam.combiners.Count.Globally() | beam.LogElements()\n",
    "    # p | beam.Create(data) | beam.combiners.Latest.Globally()  | beam.LogElements()\n",
    "    # p | beam.Create(data) | beam.combiners.Mean.Globally()  | beam.LogElements()\n",
    "\n",
    "    # p | beam.Create(data) | beam.CombineGlobally(sum) | beam.LogElements()\n",
    "    \n",
    "    # p | beam.Create(data) | beam.combiners.Top.Largest(2)  | beam.LogElements()\n",
    "    # p | beam.Create(data) | beam.combiners.Top.Smallest(2)  | beam.LogElements()\n",
    "    \n",
    "    # p | beam.Create(data) | beam.combiners.ToList()  | beam.LogElements()\n",
    "    # p | beam.Create(data) | beam.combiners.ToSet()  | beam.LogElements()\n",
    "    \n",
    "    # p | beam.Create(data) | beam.Distinct()  | beam.LogElements()\n",
    "    \n",
    "    # p | beam.Create(data) | beam.Map(lambda x: (x,1))  | beam.LogElements()\n",
    "    # p | beam.Create(data) | beam.Filter(lambda x: x==7)  | beam.LogElements()\n",
    "    # p | beam.Create(data) | beam.FlatMap(lambda x: [x])  | beam.LogElements()\n",
    "    # p | beam.Create(data) | beam.GroupBy()  | beam.LogElements()\n",
    "\n",
    "    \n",
    "    # p | beam.Create(data) | beam.combiners.Count.PerElement() | beam.LogElements()\n",
    "    # p | beam.Create(data) | \"\" >> beam.Map(lambda x: (x,1)) | beam.GroupByKey() | \"map2\" >> beam.Map(lambda x: (x[0], len(x[1]))) | beam.LogElements()\n",
    "    # p | beam.Create(data) | \"\" >> beam.Map(lambda x: (x,1)) | beam.GroupByKey() | \"map2\" >> beam.Map(lambda x: (x[0], sum(x[1]))) | beam.LogElements()\n",
    "    \n"
   ]
  },
  {
   "cell_type": "code",
   "execution_count": 123,
   "id": "5edf5de6-ce73-4bce-9c8a-534c8de4ef9b",
   "metadata": {},
   "outputs": [
    {
     "name": "stdout",
     "output_type": "stream",
     "text": [
      "('math', 90)\n",
      "('science', 85)\n",
      "('math', 95)\n",
      "('science', 80)\n",
      "('english', 88)\n",
      "('english', 92)\n"
     ]
    }
   ],
   "source": [
    "with beam.Pipeline() as p:\n",
    "    (\n",
    "        p \n",
    "        | 'Create' >> beam.Create( [\n",
    "            ('math', 90),\n",
    "            ('science', 85),\n",
    "            ('math', 95),\n",
    "            ('science', 80),\n",
    "            ('english', 88),\n",
    "            ('english', 92),\n",
    "        ])\n",
    "\n",
    "        | beam.LogElements()\n",
    "        \n",
    "        # | beam.Map(lambda x: dict([x])) | beam.LogElements()\n",
    "        \n",
    "        # | beam.combiners.Count.Globally() | beam.LogElements()\n",
    "        # | beam.combiners.Count.PerElement() | beam.LogElements()\n",
    "        # | beam.combiners.Count.PerKey() | beam.LogElements()\n",
    "        \n",
    "        # | beam.combiners.Latest.PerKey() | beam.LogElements()\n",
    "        # | beam.combiners.Mean.PerKey() | beam.LogElements()\n",
    "        \n",
    "        # | beam.combiners.ToList() | beam.LogElements()\n",
    "        # | beam.combiners.ToDict() | beam.LogElements()\n",
    "        \n",
    "        # | beam.GroupBy(lambda x: x[0]) | beam.LogElements()\n",
    "        # | beam.GroupByKey() | beam.LogElements()\n",
    "        # | beam.CombinePerKey(sum)  | beam.LogElements()\n",
    "\n",
    "        # | beam.GroupIntoBatches(2)  | beam.LogElements()\n",
    "        \n",
    "        \n",
    "        # | beam.Distinct() | beam.LogElements()\n",
    "    )"
   ]
  },
  {
   "cell_type": "code",
   "execution_count": null,
   "id": "a94356fd-7091-4574-b56a-3294c22ecef5",
   "metadata": {},
   "outputs": [],
   "source": []
  },
  {
   "cell_type": "code",
   "execution_count": null,
   "id": "fa93987a-c523-4e91-a0a8-f32ec2d2989e",
   "metadata": {},
   "outputs": [],
   "source": []
  },
  {
   "cell_type": "code",
   "execution_count": null,
   "id": "e43a571c-e4ad-4d95-8cc6-c869f94d0ed9",
   "metadata": {},
   "outputs": [],
   "source": []
  },
  {
   "cell_type": "markdown",
   "id": "3ec3364d-4834-4103-be3b-fa0602484fcd",
   "metadata": {},
   "source": [
    "# Windows"
   ]
  },
  {
   "cell_type": "code",
   "execution_count": 124,
   "id": "a1b871b6-3561-4ded-863e-bfe2072fe6d0",
   "metadata": {},
   "outputs": [
    {
     "name": "stdout",
     "output_type": "stream",
     "text": [
      "(8, '2020-01-01 00:00:00')\n",
      "(5, '2020-02-01 00:00:00')\n",
      "(8, '2020-02-11 00:00:00')\n",
      "(3, '2020-03-01 00:00:00')\n",
      "(2, '2020-03-02 00:00:00')\n"
     ]
    }
   ],
   "source": [
    "with beam.Pipeline() as p:\n",
    "    (\n",
    "        p \n",
    "        | beam.Create([\n",
    "            (8,'2020-01-01 00:00:00'),\n",
    "            (5,'2020-02-01 00:00:00'),\n",
    "            (8,'2020-02-11 00:00:00'),\n",
    "            (3,'2020-03-01 00:00:00'),\n",
    "            (2,'2020-03-02 00:00:00')\n",
    "        ])\n",
    "        | beam.LogElements()\n",
    "    )\n"
   ]
  },
  {
   "cell_type": "code",
   "execution_count": 125,
   "id": "bd6b2f1e-774e-4e4e-83cf-80fb818d7a32",
   "metadata": {},
   "outputs": [
    {
     "data": {
      "text/plain": [
       "1721718500.9265459"
      ]
     },
     "execution_count": 125,
     "metadata": {},
     "output_type": "execute_result"
    }
   ],
   "source": [
    "import time\n",
    "time.time()"
   ]
  },
  {
   "cell_type": "code",
   "execution_count": 126,
   "id": "e0cd8d56-da9f-48a5-8e81-7fc3b7bd4ef6",
   "metadata": {},
   "outputs": [
    {
     "data": {
      "text/plain": [
       "1577817000.0"
      ]
     },
     "execution_count": 126,
     "metadata": {},
     "output_type": "execute_result"
    }
   ],
   "source": [
    "time.mktime(time.strptime('2020-01-01 00:00:00', '%Y-%m-%d %H:%M:%S'))"
   ]
  },
  {
   "cell_type": "code",
   "execution_count": 127,
   "id": "6e1b0310-af77-43fa-a100-1766d05a626d",
   "metadata": {},
   "outputs": [
    {
     "data": {
      "text/plain": [
       "'Wed Jan  1 00:00:00 2020'"
      ]
     },
     "execution_count": 127,
     "metadata": {},
     "output_type": "execute_result"
    }
   ],
   "source": [
    "time.ctime(1577817000)"
   ]
  },
  {
   "cell_type": "code",
   "execution_count": 128,
   "id": "93d0340e-1e9a-439d-b5e2-8372d5365118",
   "metadata": {},
   "outputs": [
    {
     "data": {
      "text/plain": [
       "datetime.datetime(2020, 1, 1, 0, 0)"
      ]
     },
     "execution_count": 128,
     "metadata": {},
     "output_type": "execute_result"
    }
   ],
   "source": [
    "from datetime import datetime\n",
    "datetime.fromtimestamp(1577817000)"
   ]
  },
  {
   "cell_type": "code",
   "execution_count": 129,
   "id": "a9fb2b10-bfa5-4fcf-8333-a913b72be9a6",
   "metadata": {},
   "outputs": [],
   "source": [
    "func = lambda x: time.mktime(time.strptime(x, '%Y-%m-%d %H:%M:%S'))"
   ]
  },
  {
   "cell_type": "code",
   "execution_count": 130,
   "id": "369d7ba3-87ea-4b76-b782-43b1764274e3",
   "metadata": {},
   "outputs": [
    {
     "data": {
      "text/plain": [
       "1577817000.0"
      ]
     },
     "execution_count": 130,
     "metadata": {},
     "output_type": "execute_result"
    }
   ],
   "source": [
    "func('2020-01-01 00:00:00')"
   ]
  },
  {
   "cell_type": "code",
   "execution_count": 131,
   "id": "34844912-f946-4cdf-a6cc-fa012d17fab9",
   "metadata": {},
   "outputs": [],
   "source": [
    "def func2(x):\n",
    "    return x[0], time.mktime(time.strptime(x[1], '%Y-%m-%d %H:%M:%S'))"
   ]
  },
  {
   "cell_type": "code",
   "execution_count": 132,
   "id": "22c6adae-1edd-4522-b8cd-96fc5c444cc2",
   "metadata": {},
   "outputs": [
    {
     "data": {
      "text/plain": [
       "(8, 1577817000.0)"
      ]
     },
     "execution_count": 132,
     "metadata": {},
     "output_type": "execute_result"
    }
   ],
   "source": [
    "func2((8,'2020-01-01 00:00:00'))"
   ]
  },
  {
   "cell_type": "code",
   "execution_count": 133,
   "id": "2c0bc322-2381-4958-8f69-b8135ebdb2f4",
   "metadata": {},
   "outputs": [
    {
     "name": "stdout",
     "output_type": "stream",
     "text": [
      "(8, 1577817000.0)\n",
      "(5, 1580495400.0)\n",
      "(8, 1581359400.0)\n",
      "(3, 1583001000.0)\n",
      "(2, 1583087400.0)\n"
     ]
    }
   ],
   "source": [
    "with beam.Pipeline() as p:\n",
    "    (\n",
    "        p \n",
    "        | beam.Create([\n",
    "            (8,'2020-01-01 00:00:00'),\n",
    "            (5,'2020-02-01 00:00:00'),\n",
    "            (8,'2020-02-11 00:00:00'),\n",
    "            (3,'2020-03-01 00:00:00'),\n",
    "            (2,'2020-03-02 00:00:00')\n",
    "        ])\n",
    "        # | beam.LogElements()\n",
    "        | beam.Map(func2) \n",
    "        # | beam.combiners.Count.Globally()\n",
    "        \n",
    "        # | beam.combiners.Top.Largest(1)\n",
    "        # | beam.combiners.Top.Largest(1, key=lambda x: x[1])\n",
    "        \n",
    "        # | beam.combiners.Top.Smallest(1)\n",
    "        # | beam.combiners.Top.Smallest(1,  key=lambda x: x[1])\n",
    "        \n",
    "        | beam.Map(lambda x: beam.window.TimestampedValue(x,x[1]))\n",
    "        \n",
    "        | beam.LogElements()\n",
    "    )\n"
   ]
  },
  {
   "cell_type": "code",
   "execution_count": 134,
   "id": "d4e84b89-55dc-4c5b-bd89-d153cd67e244",
   "metadata": {},
   "outputs": [
    {
     "name": "stdout",
     "output_type": "stream",
     "text": [
      "(8, 1577817000.0)\n",
      "(5, 1580495400.0)\n",
      "(8, 1581359400.0)\n",
      "(3, 1583001000.0)\n",
      "(2, 1583087400.0)\n"
     ]
    }
   ],
   "source": [
    "with beam.Pipeline() as p:\n",
    "    (\n",
    "        p \n",
    "        | beam.Create([\n",
    "            (8,'2020-01-01 00:00:00'),\n",
    "            (5,'2020-02-01 00:00:00'),\n",
    "            (8,'2020-02-11 00:00:00'),\n",
    "            (3,'2020-03-01 00:00:00'),\n",
    "            (2,'2020-03-02 00:00:00')\n",
    "        ])\n",
    "        # | beam.LogElements()\n",
    "        | beam.Map(func2) \n",
    "        # | beam.combiners.Count.Globally()\n",
    "        \n",
    "        # | beam.combiners.Top.Largest(1)\n",
    "        # | beam.combiners.Top.Largest(1, key=lambda x: x[1])\n",
    "        \n",
    "        # | beam.combiners.Top.Smallest(1)\n",
    "        # | beam.combiners.Top.Smallest(1,  key=lambda x: x[1])\n",
    "        \n",
    "        | beam.Map(lambda x: beam.window.TimestampedValue(x,x[1]))\n",
    "        | beam.WindowInto(beam.window.FixedWindows(30*24*60*60))\n",
    "        \n",
    "        | beam.LogElements()\n",
    "    )\n"
   ]
  },
  {
   "cell_type": "code",
   "execution_count": 135,
   "id": "bef3f346-6290-481a-86e9-f7e9bb182911",
   "metadata": {},
   "outputs": [
    {
     "name": "stdout",
     "output_type": "stream",
     "text": [
      "16, window(start=2019-12-10T00:00:00Z, end=2020-01-09T00:00:00Z)\n",
      "5, window(start=2020-01-09T00:00:00Z, end=2020-02-08T00:00:00Z)\n",
      "13, window(start=2020-02-08T00:00:00Z, end=2020-03-09T00:00:00Z)\n"
     ]
    }
   ],
   "source": [
    "with beam.Pipeline() as p:\n",
    "    (\n",
    "        p \n",
    "        | beam.Create([\n",
    "            (8,'2020-01-01 00:00:00'),\n",
    "            (8,'2020-01-02 00:00:00'),\n",
    "            (5,'2020-02-01 00:00:00'),\n",
    "            (8,'2020-02-11 00:00:00'),\n",
    "            (3,'2020-03-01 00:00:00'),\n",
    "            (2,'2020-03-02 00:00:00')\n",
    "        ])\n",
    "        # | beam.LogElements()\n",
    "        | beam.Map(func2) \n",
    "        # | beam.combiners.Count.Globally()\n",
    "        \n",
    "        # | beam.combiners.Top.Largest(1)\n",
    "        # | beam.combiners.Top.Largest(1, key=lambda x: x[1])\n",
    "        \n",
    "        # | beam.combiners.Top.Smallest(1)\n",
    "        # | beam.combiners.Top.Smallest(1,  key=lambda x: x[1])\n",
    "        \n",
    "        | beam.Map(lambda x: beam.window.TimestampedValue(x[0],x[1]))\n",
    "        | beam.WindowInto(beam.window.FixedWindows(30*24*60*60))\n",
    "        | beam.CombineGlobally(sum).without_defaults()\n",
    "        \n",
    "        | beam.LogElements(with_window=True)\n",
    "    )\n"
   ]
  },
  {
   "cell_type": "code",
   "execution_count": 136,
   "id": "9ef51456-ebdd-44e4-bdc4-7c2f0162dea7",
   "metadata": {},
   "outputs": [
    {
     "data": {
      "text/plain": [
       "2592000"
      ]
     },
     "execution_count": 136,
     "metadata": {},
     "output_type": "execute_result"
    }
   ],
   "source": [
    "sec_per_day = 30*24*60*60 # 30 days in seconds\n",
    "sec_per_day"
   ]
  },
  {
   "cell_type": "code",
   "execution_count": 137,
   "id": "ed7be26a-8f5b-4840-ac18-ccbe0b9692a3",
   "metadata": {},
   "outputs": [],
   "source": [
    "from math import floor"
   ]
  },
  {
   "cell_type": "code",
   "execution_count": 138,
   "id": "a59d83ac-57d7-43dd-8256-4bdd19fbe7d6",
   "metadata": {},
   "outputs": [
    {
     "data": {
      "text/plain": [
       "1575936000"
      ]
     },
     "execution_count": 138,
     "metadata": {},
     "output_type": "execute_result"
    }
   ],
   "source": [
    "floor(func('2020-01-01 00:00:00')/sec_per_day) * sec_per_day"
   ]
  },
  {
   "cell_type": "code",
   "execution_count": 139,
   "id": "04347f7a-1569-4fa8-8f17-1d51212b4ff4",
   "metadata": {},
   "outputs": [
    {
     "data": {
      "text/plain": [
       "datetime.datetime(2019, 12, 10, 5, 30)"
      ]
     },
     "execution_count": 139,
     "metadata": {},
     "output_type": "execute_result"
    }
   ],
   "source": [
    "# window start\n",
    "datetime.fromtimestamp(1575936000)"
   ]
  },
  {
   "cell_type": "code",
   "execution_count": 140,
   "id": "88849bbe-23c5-4def-bfee-947eb66593ec",
   "metadata": {},
   "outputs": [
    {
     "data": {
      "text/plain": [
       "datetime.datetime(2020, 1, 9, 5, 30)"
      ]
     },
     "execution_count": 140,
     "metadata": {},
     "output_type": "execute_result"
    }
   ],
   "source": [
    "# window end\n",
    "1575936000 + sec_per_day\n",
    "datetime.fromtimestamp(1575936000 + sec_per_day)"
   ]
  },
  {
   "cell_type": "code",
   "execution_count": null,
   "id": "1550c0df-0633-4fac-803b-efba113866d4",
   "metadata": {},
   "outputs": [],
   "source": []
  },
  {
   "cell_type": "code",
   "execution_count": 141,
   "id": "8476790e-aa76-40cc-9cb9-b4ba6c91ec7a",
   "metadata": {},
   "outputs": [
    {
     "name": "stdout",
     "output_type": "stream",
     "text": [
      "2, window(start=2019-12-10T00:00:00Z, end=2020-01-09T00:00:00Z)\n",
      "1, window(start=2020-01-09T00:00:00Z, end=2020-02-08T00:00:00Z)\n",
      "3, window(start=2020-02-08T00:00:00Z, end=2020-03-09T00:00:00Z)\n"
     ]
    }
   ],
   "source": [
    "with beam.Pipeline() as p:\n",
    "    (\n",
    "        p \n",
    "        | beam.Create([\n",
    "            (8,'2020-01-01 00:00:00'),\n",
    "            (8,'2020-01-02 00:00:00'),\n",
    "            (5,'2020-02-01 00:00:00'),\n",
    "            (8,'2020-02-11 00:00:00'),\n",
    "            (3,'2020-03-01 00:00:00'),\n",
    "            (2,'2020-03-02 00:00:00')\n",
    "        ])\n",
    "        # | beam.LogElements()\n",
    "        | beam.Map(func2) \n",
    "        # | beam.combiners.Count.Globally()\n",
    "        \n",
    "        # | beam.combiners.Top.Largest(1)\n",
    "        # | beam.combiners.Top.Largest(1, key=lambda x: x[1])\n",
    "        \n",
    "        # | beam.combiners.Top.Smallest(1)\n",
    "        # | beam.combiners.Top.Smallest(1,  key=lambda x: x[1])\n",
    "        \n",
    "        | beam.Map(lambda x: beam.window.TimestampedValue(x[0],x[1]))\n",
    "        | beam.WindowInto(beam.window.FixedWindows(30*24*60*60))\n",
    "        # | beam.CombineGlobally(sum).without_defaults()\n",
    "        | beam.CombineGlobally(beam.combiners.CountCombineFn()).without_defaults()\n",
    "        \n",
    "        | beam.LogElements(with_window=True)\n",
    "    )\n"
   ]
  },
  {
   "cell_type": "code",
   "execution_count": null,
   "id": "5fc429cc-e74f-4237-b6e8-a2302f5dec84",
   "metadata": {},
   "outputs": [],
   "source": []
  },
  {
   "cell_type": "code",
   "execution_count": null,
   "id": "d7fa4bd9-6db8-4c7e-97ba-43991b1fa2da",
   "metadata": {},
   "outputs": [],
   "source": []
  },
  {
   "cell_type": "code",
   "execution_count": 142,
   "id": "b276ee7d-1cb6-42b4-8069-70d3831a3202",
   "metadata": {},
   "outputs": [
    {
     "name": "stderr",
     "output_type": "stream",
     "text": [
      "INFO:root:{'id': 1, 'name': 'ali'}\n",
      "INFO:root:{'id': 10, 'name': 'umar'}\n",
      "INFO:root:{'id': 100, 'name': 'hamza'}\n"
     ]
    },
    {
     "name": "stdout",
     "output_type": "stream",
     "text": [
      "{'id': 1, 'name': 'ali'}\n",
      "{'id': 10, 'name': 'umar'}\n",
      "{'id': 100, 'name': 'hamza'}\n"
     ]
    }
   ],
   "source": [
    "import apache_beam as beam\n",
    "import mysql.connector\n",
    "\n",
    "class ReadFromMySQL(beam.DoFn):\n",
    "    def __init__(self, query, host, user, password, database):\n",
    "        self.query = query\n",
    "        self.host = host\n",
    "        self.user = user\n",
    "        self.password = password\n",
    "        self.database = database\n",
    "\n",
    "    def process(self, element):\n",
    "        conn = mysql.connector.connect(\n",
    "            host=self.host,\n",
    "            user=self.user,\n",
    "            password=self.password,\n",
    "            database=self.database\n",
    "        )\n",
    "        cursor = conn.cursor(dictionary=True)\n",
    "        cursor.execute(self.query)\n",
    "        for row in cursor:\n",
    "            logging.info(row)\n",
    "            yield row\n",
    "        cursor.close()\n",
    "        conn.close()\n",
    "\n",
    "with beam.Pipeline() as p:\n",
    "    (\n",
    "        p\n",
    "        | beam.Create([None])  # Dummy PCollection to trigger the ParDo\n",
    "        | beam.ParDo(ReadFromMySQL(\n",
    "            query='SELECT * FROM tb',\n",
    "            host='localhost',\n",
    "            user='ali',\n",
    "            password='ali',\n",
    "            database='db'\n",
    "        ))\n",
    "        | beam.LogElements()  # Print each record to the console\n",
    "    )\n"
   ]
  },
  {
   "cell_type": "code",
   "execution_count": 143,
   "id": "9cc16876-926f-4396-af08-98c4c8c04851",
   "metadata": {},
   "outputs": [],
   "source": [
    "import apache_beam as beam\n",
    "import psycopg2\n",
    "from apache_beam.io import iobase\n",
    "\n",
    "class WriteToPostgreSQL(beam.DoFn):\n",
    "    def __init__(self, host, user, password, database, table, mode='overwrite'):\n",
    "        self.host = host\n",
    "        self.user = user\n",
    "        self.password = password\n",
    "        self.database = database\n",
    "        self.table = table\n",
    "        self.mode = mode  # 'append' or 'overwrite'\n",
    "\n",
    "    def start_bundle(self):\n",
    "        self.conn = psycopg2.connect(\n",
    "            host=self.host,\n",
    "            user=self.user,\n",
    "            password=self.password,\n",
    "            database=self.database\n",
    "        )\n",
    "        self.cursor = self.conn.cursor()\n",
    "\n",
    "        if self.mode == 'overwrite':\n",
    "            # Optionally truncate table if mode is 'overwrite'\n",
    "            self.cursor.execute(f\"TRUNCATE TABLE {self.table}\")\n",
    "            self.conn.commit()\n",
    "\n",
    "    def process(self, element):\n",
    "        keys = ', '.join(element.keys())\n",
    "        values = ', '.join([f\"%({key})s\" for key in element.keys()])\n",
    "        sql = f\"INSERT INTO {self.table} ({keys}) VALUES ({values})\"\n",
    "        self.cursor.execute(sql, element)\n",
    "        self.conn.commit()\n",
    "\n",
    "    def finish_bundle(self):\n",
    "        self.cursor.close()\n",
    "        self.conn.close()\n"
   ]
  },
  {
   "cell_type": "code",
   "execution_count": null,
   "id": "7b9b3139-6d12-4169-919e-d34d144fb8df",
   "metadata": {},
   "outputs": [],
   "source": []
  },
  {
   "cell_type": "code",
   "execution_count": 144,
   "id": "c49f8e74-cb2a-492f-926f-fcf6ac78cde3",
   "metadata": {},
   "outputs": [
    {
     "name": "stderr",
     "output_type": "stream",
     "text": [
      "INFO:root:{'id': 1, 'name': 'ali'}\n",
      "INFO:root:{'id': 10, 'name': 'umar'}\n",
      "INFO:root:{'id': 100, 'name': 'hamza'}\n"
     ]
    }
   ],
   "source": [
    "\n",
    "with beam.Pipeline() as p:\n",
    "    (\n",
    "        p\n",
    "        | beam.Create([None])  # Dummy PCollection to trigger the ParDo\n",
    "        | beam.ParDo(ReadFromMySQL(\n",
    "            query='SELECT * FROM tb',\n",
    "            host='localhost',\n",
    "            user='ali',\n",
    "            password='ali',\n",
    "            database='db'\n",
    "        ))\n",
    "        | beam.ParDo(WriteToPostgreSQL(\n",
    "            host='localhost', \n",
    "            user='postgres', \n",
    "            password='ali', \n",
    "            database='postgres', \n",
    "            table='tb'))\n",
    "        # | beam.LogElements()  # Print each record to the console\n",
    "    )"
   ]
  },
  {
   "cell_type": "code",
   "execution_count": 145,
   "id": "f01fbb62-24b2-4646-b4c0-cc6bda5d64e1",
   "metadata": {},
   "outputs": [
    {
     "name": "stderr",
     "output_type": "stream",
     "text": [
      "INFO:root:{'id': 1, 'name': 'ali'}\n",
      "INFO:root:{'id': 10, 'name': 'umar'}\n",
      "INFO:root:{'id': 100, 'name': 'hamza'}\n"
     ]
    }
   ],
   "source": [
    "logging.basicConfig(level=logging.INFO)\n",
    "with beam.Pipeline() as p:\n",
    "    (\n",
    "        p\n",
    "        | 'CreateEmptyPCollection' >> beam.Create([None])\n",
    "        | 'ReadFromMySQL' >> beam.ParDo(ReadFromMySQL(\n",
    "            query='SELECT * FROM tb',\n",
    "            host='localhost',\n",
    "            user='ali',\n",
    "            password='ali',\n",
    "            database='db'\n",
    "        ))\n",
    "        | 'WriteToPostgreSQL' >> beam.ParDo(WriteToPostgreSQL(\n",
    "            host='localhost', \n",
    "            user='postgres', \n",
    "            password='ali', \n",
    "            database='postgres', \n",
    "            table='tb'))\n",
    "    )"
   ]
  },
  {
   "cell_type": "code",
   "execution_count": null,
   "id": "4a148e6a-cce6-45f4-ac81-6d861daf0caf",
   "metadata": {},
   "outputs": [],
   "source": []
  },
  {
   "cell_type": "code",
   "execution_count": null,
   "id": "11e2dd17-831e-480f-b423-fb08fdd39773",
   "metadata": {},
   "outputs": [],
   "source": []
  },
  {
   "cell_type": "code",
   "execution_count": null,
   "id": "fcaa0681-064f-49ea-93e9-81b7d52bd02d",
   "metadata": {},
   "outputs": [],
   "source": []
  },
  {
   "cell_type": "code",
   "execution_count": null,
   "id": "335299ba-d33d-4e26-acf3-8842d00292a6",
   "metadata": {},
   "outputs": [],
   "source": []
  },
  {
   "cell_type": "code",
   "execution_count": null,
   "id": "e07985cf-0f96-4849-a91e-c6c8e0af6dcb",
   "metadata": {},
   "outputs": [],
   "source": []
  },
  {
   "cell_type": "code",
   "execution_count": null,
   "id": "4077ffad-da5f-42e0-af28-8d8e859004e3",
   "metadata": {},
   "outputs": [],
   "source": []
  }
 ],
 "metadata": {
  "kernelspec": {
   "display_name": "Python 3 (ipykernel)",
   "language": "python",
   "name": "python3"
  },
  "language_info": {
   "codemirror_mode": {
    "name": "ipython",
    "version": 3
   },
   "file_extension": ".py",
   "mimetype": "text/x-python",
   "name": "python",
   "nbconvert_exporter": "python",
   "pygments_lexer": "ipython3",
   "version": "3.10.12"
  }
 },
 "nbformat": 4,
 "nbformat_minor": 5
}
